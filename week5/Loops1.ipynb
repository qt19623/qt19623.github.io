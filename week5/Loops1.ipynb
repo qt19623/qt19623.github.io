{
  "nbformat": 4,
  "nbformat_minor": 0,
  "metadata": {
    "colab": {
      "name": "Loops1.ipynb",
      "provenance": [],
      "collapsed_sections": [],
      "include_colab_link": true
    },
    "kernelspec": {
      "name": "python3",
      "display_name": "Python 3"
    },
    "language_info": {
      "name": "python"
    }
  },
  "cells": [
    {
      "cell_type": "markdown",
      "metadata": {
        "id": "view-in-github",
        "colab_type": "text"
      },
      "source": [
        "<a href=\"https://colab.research.google.com/github/qt19623/qt19623.github.io/blob/main/week5/Loops1.ipynb\" target=\"_parent\"><img src=\"https://colab.research.google.com/assets/colab-badge.svg\" alt=\"Open In Colab\"/></a>"
      ]
    },
    {
      "cell_type": "markdown",
      "metadata": {
        "id": "FPhxioawb3mN"
      },
      "source": [
        "Expenditures: Meats, Poultry, Fish, and Eggs by Size of Consumer Unit: \n",
        "\n",
        "CXUANIMALLB0504M   https://fred.stlouisfed.org/series/CXUANIMALLB0504M Two People in Consumer Unit\n",
        "CXUANIMALLB0505M  https://fred.stlouisfed.org/series/CXUANIMALLB0505M  Three People in Consumer Unit \n",
        "CXUANIMALLB0506M  https://fred.stlouisfed.org/series/CXUANIMALLB0506M  Four People in Consumer Unit\n",
        "CXUANIMALLB0507M  https://fred.stlouisfed.org/series/CXUANIMALLB0507M  Five or More People in Consumer Unit "
      ]
    },
    {
      "cell_type": "code",
      "metadata": {
        "colab": {
          "base_uri": "https://localhost:8080/"
        },
        "id": "NHaOzVaba8r9",
        "outputId": "0d058fdf-b1bd-470a-b13f-b0c7155c9811"
      },
      "source": [
        "\n",
        "# SET A URL BASE, THAT INCUDES EVERYTHING THAT DOESN'T CHANGE:\n",
        "url_base = \"https://api.stlouisfed.org/fred/series/observations?series_id={}&api_key=aace2d0e64131776dfba7046a45e526b&file_type=json\"\n",
        "\n",
        "# NOW PICK ALL THE SERIES THAT WE ARE INTERESTED IN:\n",
        "fredSeries = ['CXUANIMALLB0504M', 'CXUANIMALLB0505M', 'CXUANIMALLB0506M', 'CXUANIMALLB0507M']\n",
        "\n",
        "# // Begin a loop, dealing with series one by one:\n",
        "for i in fredSeries:  \n",
        "   # // Build the URL for this iteration of the loop, and check what we are getting:\n",
        "   URL = url_base.format(i)\n",
        "   print(URL)"
      ],
      "execution_count": null,
      "outputs": [
        {
          "output_type": "stream",
          "name": "stdout",
          "text": [
            "https://api.stlouisfed.org/fred/series/observations?series_id=CXUANIMALLB0504M&api_key=aace2d0e64131776dfba7046a45e526b&file_type=json\n",
            "https://api.stlouisfed.org/fred/series/observations?series_id=CXUANIMALLB0505M&api_key=aace2d0e64131776dfba7046a45e526b&file_type=json\n",
            "https://api.stlouisfed.org/fred/series/observations?series_id=CXUANIMALLB0506M&api_key=aace2d0e64131776dfba7046a45e526b&file_type=json\n",
            "https://api.stlouisfed.org/fred/series/observations?series_id=CXUANIMALLB0507M&api_key=aace2d0e64131776dfba7046a45e526b&file_type=json\n"
          ]
        }
      ]
    },
    {
      "cell_type": "code",
      "metadata": {
        "id": "FP7IPVZU9pVB"
      },
      "source": [
        "# /// Import tools that we will need:\n",
        "\n",
        "# // Opening web sites and web scraping: \n",
        "import requests\n",
        "\n",
        "# // OS. Sometimes need this for finding working directory:\n",
        "import os\n",
        "\n",
        "# // JSON. This helps us make JSON look prettier and easier to read\n",
        "import json\n",
        "\n",
        "# /// Files.  This is part of Collab - allows you to upload and download files\n",
        "from google.colab import files"
      ],
      "execution_count": null,
      "outputs": []
    },
    {
      "cell_type": "code",
      "metadata": {
        "id": "WSfh5-1M90um",
        "colab": {
          "base_uri": "https://localhost:8080/",
          "height": 314
        },
        "outputId": "87e56468-9ec5-472b-8754-cea8e34879ea"
      },
      "source": [
        "## PUTTING THIS ALL TOGETHER:\n",
        "\n",
        "# // Set the base url:\n",
        "url_base = \"https://api.stlouisfed.org/fred/series/observations?series_id={}&api_key=22ee7a76e736e32f54f5df0a7171538d&file_type=json\"\n",
        "\n",
        "# // Set the base fileName:\n",
        "file_base = \"data_FRED-{}.json\"\n",
        "\n",
        "# // Pick the series that I want:\n",
        "fredSeries = ['CXUANIMALLB0504M', 'CXUANIMALLB0505M', 'CXUANIMALLB0506M', 'CXUANIMALLB0507M']\n",
        "\n",
        "# // Begin a loop, dealing with each series, one by one:\n",
        "for i in fredSeries:  \n",
        "\n",
        "   # // Print the iteration of the loop we are on:\n",
        "   # // This is not necessary but can be helpful. \n",
        "   print(i) \n",
        "  \n",
        "   # // Build the URL for this iteration of the loop, and check what we are getting:\n",
        "   URL = url_base.format(i)\n",
        "   print(URL)\n",
        "   \n",
        "   # // Request the html from the URL:\n",
        "   data = requests.get(URL).json()\n",
        "   print(data)\n",
        "\n",
        "   # // Set the filename, and check what we are getting:\n",
        "   fileName = file_base.format(i)\n",
        "   print(fileName)\n",
        "\n",
        "   # /// Save the file:\n",
        "   with open(fileName, 'w', encoding='utf-8') as f:\n",
        "     json.dump(data, f, ensure_ascii=False, indent=4)\n",
        "\n",
        "   # /// Download the file to local machine:\n",
        "   files.download(fileName)"
      ],
      "execution_count": null,
      "outputs": [
        {
          "output_type": "stream",
          "name": "stdout",
          "text": [
            "CXUANIMALLB0504M\n",
            "https://api.stlouisfed.org/fred/series/observations?series_id=CXUANIMALLB0504M&api_key=22ee7a76e736e32f54f5df0a7171538d&file_type=json\n",
            "{'realtime_start': '2021-11-21', 'realtime_end': '2021-11-21', 'observation_start': '1600-01-01', 'observation_end': '9999-12-31', 'units': 'lin', 'output_type': 1, 'file_type': 'json', 'order_by': 'observation_date', 'sort_order': 'asc', 'count': 37, 'offset': 0, 'limit': 100000, 'observations': [{'realtime_start': '2021-11-21', 'realtime_end': '2021-11-21', 'date': '1984-01-01', 'value': '505'}, {'realtime_start': '2021-11-21', 'realtime_end': '2021-11-21', 'date': '1985-01-01', 'value': '558'}, {'realtime_start': '2021-11-21', 'realtime_end': '2021-11-21', 'date': '1986-01-01', 'value': '542'}, {'realtime_start': '2021-11-21', 'realtime_end': '2021-11-21', 'date': '1987-01-01', 'value': '551'}, {'realtime_start': '2021-11-21', 'realtime_end': '2021-11-21', 'date': '1988-01-01', 'value': '534'}, {'realtime_start': '2021-11-21', 'realtime_end': '2021-11-21', 'date': '1989-01-01', 'value': '589'}, {'realtime_start': '2021-11-21', 'realtime_end': '2021-11-21', 'date': '1990-01-01', 'value': '666'}, {'realtime_start': '2021-11-21', 'realtime_end': '2021-11-21', 'date': '1991-01-01', 'value': '673'}, {'realtime_start': '2021-11-21', 'realtime_end': '2021-11-21', 'date': '1992-01-01', 'value': '656'}, {'realtime_start': '2021-11-21', 'realtime_end': '2021-11-21', 'date': '1993-01-01', 'value': '707'}, {'realtime_start': '2021-11-21', 'realtime_end': '2021-11-21', 'date': '1994-01-01', 'value': '675'}, {'realtime_start': '2021-11-21', 'realtime_end': '2021-11-21', 'date': '1995-01-01', 'value': '678'}, {'realtime_start': '2021-11-21', 'realtime_end': '2021-11-21', 'date': '1996-01-01', 'value': '672'}, {'realtime_start': '2021-11-21', 'realtime_end': '2021-11-21', 'date': '1997-01-01', 'value': '717'}, {'realtime_start': '2021-11-21', 'realtime_end': '2021-11-21', 'date': '1998-01-01', 'value': '673'}, {'realtime_start': '2021-11-21', 'realtime_end': '2021-11-21', 'date': '1999-01-01', 'value': '743'}, {'realtime_start': '2021-11-21', 'realtime_end': '2021-11-21', 'date': '2000-01-01', 'value': '774'}, {'realtime_start': '2021-11-21', 'realtime_end': '2021-11-21', 'date': '2001-01-01', 'value': '811'}, {'realtime_start': '2021-11-21', 'realtime_end': '2021-11-21', 'date': '2002-01-01', 'value': '767'}, {'realtime_start': '2021-11-21', 'realtime_end': '2021-11-21', 'date': '2003-01-01', 'value': '824'}, {'realtime_start': '2021-11-21', 'realtime_end': '2021-11-21', 'date': '2004-01-01', 'value': '864'}, {'realtime_start': '2021-11-21', 'realtime_end': '2021-11-21', 'date': '2005-01-01', 'value': '738'}, {'realtime_start': '2021-11-21', 'realtime_end': '2021-11-21', 'date': '2006-01-01', 'value': '768'}, {'realtime_start': '2021-11-21', 'realtime_end': '2021-11-21', 'date': '2007-01-01', 'value': '744'}, {'realtime_start': '2021-11-21', 'realtime_end': '2021-11-21', 'date': '2008-01-01', 'value': '821'}, {'realtime_start': '2021-11-21', 'realtime_end': '2021-11-21', 'date': '2009-01-01', 'value': '813'}, {'realtime_start': '2021-11-21', 'realtime_end': '2021-11-21', 'date': '2010-01-01', 'value': '762'}, {'realtime_start': '2021-11-21', 'realtime_end': '2021-11-21', 'date': '2011-01-01', 'value': '776'}, {'realtime_start': '2021-11-21', 'realtime_end': '2021-11-21', 'date': '2012-01-01', 'value': '862'}, {'realtime_start': '2021-11-21', 'realtime_end': '2021-11-21', 'date': '2013-01-01', 'value': '834'}, {'realtime_start': '2021-11-21', 'realtime_end': '2021-11-21', 'date': '2014-01-01', 'value': '849'}, {'realtime_start': '2021-11-21', 'realtime_end': '2021-11-21', 'date': '2015-01-01', 'value': '884'}, {'realtime_start': '2021-11-21', 'realtime_end': '2021-11-21', 'date': '2016-01-01', 'value': '902'}, {'realtime_start': '2021-11-21', 'realtime_end': '2021-11-21', 'date': '2017-01-01', 'value': '956'}, {'realtime_start': '2021-11-21', 'realtime_end': '2021-11-21', 'date': '2018-01-01', 'value': '983'}, {'realtime_start': '2021-11-21', 'realtime_end': '2021-11-21', 'date': '2019-01-01', 'value': '976'}, {'realtime_start': '2021-11-21', 'realtime_end': '2021-11-21', 'date': '2020-01-01', 'value': '1057'}]}\n",
            "data_FRED-CXUANIMALLB0504M.json\n"
          ]
        },
        {
          "output_type": "display_data",
          "data": {
            "application/javascript": [
              "\n",
              "    async function download(id, filename, size) {\n",
              "      if (!google.colab.kernel.accessAllowed) {\n",
              "        return;\n",
              "      }\n",
              "      const div = document.createElement('div');\n",
              "      const label = document.createElement('label');\n",
              "      label.textContent = `Downloading \"${filename}\": `;\n",
              "      div.appendChild(label);\n",
              "      const progress = document.createElement('progress');\n",
              "      progress.max = size;\n",
              "      div.appendChild(progress);\n",
              "      document.body.appendChild(div);\n",
              "\n",
              "      const buffers = [];\n",
              "      let downloaded = 0;\n",
              "\n",
              "      const channel = await google.colab.kernel.comms.open(id);\n",
              "      // Send a message to notify the kernel that we're ready.\n",
              "      channel.send({})\n",
              "\n",
              "      for await (const message of channel.messages) {\n",
              "        // Send a message to notify the kernel that we're ready.\n",
              "        channel.send({})\n",
              "        if (message.buffers) {\n",
              "          for (const buffer of message.buffers) {\n",
              "            buffers.push(buffer);\n",
              "            downloaded += buffer.byteLength;\n",
              "            progress.value = downloaded;\n",
              "          }\n",
              "        }\n",
              "      }\n",
              "      const blob = new Blob(buffers, {type: 'application/binary'});\n",
              "      const a = document.createElement('a');\n",
              "      a.href = window.URL.createObjectURL(blob);\n",
              "      a.download = filename;\n",
              "      div.appendChild(a);\n",
              "      a.click();\n",
              "      div.remove();\n",
              "    }\n",
              "  "
            ],
            "text/plain": [
              "<IPython.core.display.Javascript object>"
            ]
          },
          "metadata": {}
        },
        {
          "output_type": "display_data",
          "data": {
            "application/javascript": [
              "download(\"download_5aba5050-55df-4fc2-931a-9bac451846f5\", \"data_FRED-CXUANIMALLB0504M.json\", 6576)"
            ],
            "text/plain": [
              "<IPython.core.display.Javascript object>"
            ]
          },
          "metadata": {}
        },
        {
          "output_type": "stream",
          "name": "stdout",
          "text": [
            "CXUANIMALLB0505M\n",
            "https://api.stlouisfed.org/fred/series/observations?series_id=CXUANIMALLB0505M&api_key=22ee7a76e736e32f54f5df0a7171538d&file_type=json\n",
            "{'realtime_start': '2021-11-21', 'realtime_end': '2021-11-21', 'observation_start': '1600-01-01', 'observation_end': '9999-12-31', 'units': 'lin', 'output_type': 1, 'file_type': 'json', 'order_by': 'observation_date', 'sort_order': 'asc', 'count': 37, 'offset': 0, 'limit': 100000, 'observations': [{'realtime_start': '2021-11-21', 'realtime_end': '2021-11-21', 'date': '1984-01-01', 'value': '707'}, {'realtime_start': '2021-11-21', 'realtime_end': '2021-11-21', 'date': '1985-01-01', 'value': '696'}, {'realtime_start': '2021-11-21', 'realtime_end': '2021-11-21', 'date': '1986-01-01', 'value': '687'}, {'realtime_start': '2021-11-21', 'realtime_end': '2021-11-21', 'date': '1987-01-01', 'value': '685'}, {'realtime_start': '2021-11-21', 'realtime_end': '2021-11-21', 'date': '1988-01-01', 'value': '650'}, {'realtime_start': '2021-11-21', 'realtime_end': '2021-11-21', 'date': '1989-01-01', 'value': '755'}, {'realtime_start': '2021-11-21', 'realtime_end': '2021-11-21', 'date': '1990-01-01', 'value': '834'}, {'realtime_start': '2021-11-21', 'realtime_end': '2021-11-21', 'date': '1991-01-01', 'value': '835'}, {'realtime_start': '2021-11-21', 'realtime_end': '2021-11-21', 'date': '1992-01-01', 'value': '867'}, {'realtime_start': '2021-11-21', 'realtime_end': '2021-11-21', 'date': '1993-01-01', 'value': '922'}, {'realtime_start': '2021-11-21', 'realtime_end': '2021-11-21', 'date': '1994-01-01', 'value': '872'}, {'realtime_start': '2021-11-21', 'realtime_end': '2021-11-21', 'date': '1995-01-01', 'value': '900'}, {'realtime_start': '2021-11-21', 'realtime_end': '2021-11-21', 'date': '1996-01-01', 'value': '888'}, {'realtime_start': '2021-11-21', 'realtime_end': '2021-11-21', 'date': '1997-01-01', 'value': '877'}, {'realtime_start': '2021-11-21', 'realtime_end': '2021-11-21', 'date': '1998-01-01', 'value': '863'}, {'realtime_start': '2021-11-21', 'realtime_end': '2021-11-21', 'date': '1999-01-01', 'value': '875'}, {'realtime_start': '2021-11-21', 'realtime_end': '2021-11-21', 'date': '2000-01-01', 'value': '1007'}, {'realtime_start': '2021-11-21', 'realtime_end': '2021-11-21', 'date': '2001-01-01', 'value': '1040'}, {'realtime_start': '2021-11-21', 'realtime_end': '2021-11-21', 'date': '2002-01-01', 'value': '986'}, {'realtime_start': '2021-11-21', 'realtime_end': '2021-11-21', 'date': '2003-01-01', 'value': '976'}, {'realtime_start': '2021-11-21', 'realtime_end': '2021-11-21', 'date': '2004-01-01', 'value': '1097'}, {'realtime_start': '2021-11-21', 'realtime_end': '2021-11-21', 'date': '2005-01-01', 'value': '941'}, {'realtime_start': '2021-11-21', 'realtime_end': '2021-11-21', 'date': '2006-01-01', 'value': '941'}, {'realtime_start': '2021-11-21', 'realtime_end': '2021-11-21', 'date': '2007-01-01', 'value': '940'}, {'realtime_start': '2021-11-21', 'realtime_end': '2021-11-21', 'date': '2008-01-01', 'value': '1042'}, {'realtime_start': '2021-11-21', 'realtime_end': '2021-11-21', 'date': '2009-01-01', 'value': '1024'}, {'realtime_start': '2021-11-21', 'realtime_end': '2021-11-21', 'date': '2010-01-01', 'value': '985'}, {'realtime_start': '2021-11-21', 'realtime_end': '2021-11-21', 'date': '2011-01-01', 'value': '984'}, {'realtime_start': '2021-11-21', 'realtime_end': '2021-11-21', 'date': '2012-01-01', 'value': '1029'}, {'realtime_start': '2021-11-21', 'realtime_end': '2021-11-21', 'date': '2013-01-01', 'value': '1025'}, {'realtime_start': '2021-11-21', 'realtime_end': '2021-11-21', 'date': '2014-01-01', 'value': '1108'}, {'realtime_start': '2021-11-21', 'realtime_end': '2021-11-21', 'date': '2015-01-01', 'value': '1094'}, {'realtime_start': '2021-11-21', 'realtime_end': '2021-11-21', 'date': '2016-01-01', 'value': '1074'}, {'realtime_start': '2021-11-21', 'realtime_end': '2021-11-21', 'date': '2017-01-01', 'value': '1126'}, {'realtime_start': '2021-11-21', 'realtime_end': '2021-11-21', 'date': '2018-01-01', 'value': '1114'}, {'realtime_start': '2021-11-21', 'realtime_end': '2021-11-21', 'date': '2019-01-01', 'value': '1130'}, {'realtime_start': '2021-11-21', 'realtime_end': '2021-11-21', 'date': '2020-01-01', 'value': '1227'}]}\n",
            "data_FRED-CXUANIMALLB0505M.json\n"
          ]
        },
        {
          "output_type": "display_data",
          "data": {
            "application/javascript": [
              "\n",
              "    async function download(id, filename, size) {\n",
              "      if (!google.colab.kernel.accessAllowed) {\n",
              "        return;\n",
              "      }\n",
              "      const div = document.createElement('div');\n",
              "      const label = document.createElement('label');\n",
              "      label.textContent = `Downloading \"${filename}\": `;\n",
              "      div.appendChild(label);\n",
              "      const progress = document.createElement('progress');\n",
              "      progress.max = size;\n",
              "      div.appendChild(progress);\n",
              "      document.body.appendChild(div);\n",
              "\n",
              "      const buffers = [];\n",
              "      let downloaded = 0;\n",
              "\n",
              "      const channel = await google.colab.kernel.comms.open(id);\n",
              "      // Send a message to notify the kernel that we're ready.\n",
              "      channel.send({})\n",
              "\n",
              "      for await (const message of channel.messages) {\n",
              "        // Send a message to notify the kernel that we're ready.\n",
              "        channel.send({})\n",
              "        if (message.buffers) {\n",
              "          for (const buffer of message.buffers) {\n",
              "            buffers.push(buffer);\n",
              "            downloaded += buffer.byteLength;\n",
              "            progress.value = downloaded;\n",
              "          }\n",
              "        }\n",
              "      }\n",
              "      const blob = new Blob(buffers, {type: 'application/binary'});\n",
              "      const a = document.createElement('a');\n",
              "      a.href = window.URL.createObjectURL(blob);\n",
              "      a.download = filename;\n",
              "      div.appendChild(a);\n",
              "      a.click();\n",
              "      div.remove();\n",
              "    }\n",
              "  "
            ],
            "text/plain": [
              "<IPython.core.display.Javascript object>"
            ]
          },
          "metadata": {}
        },
        {
          "output_type": "display_data",
          "data": {
            "application/javascript": [
              "download(\"download_67fce79c-8d9a-428d-9df6-27fd95330be9\", \"data_FRED-CXUANIMALLB0505M.json\", 6589)"
            ],
            "text/plain": [
              "<IPython.core.display.Javascript object>"
            ]
          },
          "metadata": {}
        },
        {
          "output_type": "stream",
          "name": "stdout",
          "text": [
            "CXUANIMALLB0506M\n",
            "https://api.stlouisfed.org/fred/series/observations?series_id=CXUANIMALLB0506M&api_key=22ee7a76e736e32f54f5df0a7171538d&file_type=json\n",
            "{'realtime_start': '2021-11-21', 'realtime_end': '2021-11-21', 'observation_start': '1600-01-01', 'observation_end': '9999-12-31', 'units': 'lin', 'output_type': 1, 'file_type': 'json', 'order_by': 'observation_date', 'sort_order': 'asc', 'count': 37, 'offset': 0, 'limit': 100000, 'observations': [{'realtime_start': '2021-11-21', 'realtime_end': '2021-11-21', 'date': '1984-01-01', 'value': '864'}, {'realtime_start': '2021-11-21', 'realtime_end': '2021-11-21', 'date': '1985-01-01', 'value': '832'}, {'realtime_start': '2021-11-21', 'realtime_end': '2021-11-21', 'date': '1986-01-01', 'value': '798'}, {'realtime_start': '2021-11-21', 'realtime_end': '2021-11-21', 'date': '1987-01-01', 'value': '837'}, {'realtime_start': '2021-11-21', 'realtime_end': '2021-11-21', 'date': '1988-01-01', 'value': '792'}, {'realtime_start': '2021-11-21', 'realtime_end': '2021-11-21', 'date': '1989-01-01', 'value': '883'}, {'realtime_start': '2021-11-21', 'realtime_end': '2021-11-21', 'date': '1990-01-01', 'value': '910'}, {'realtime_start': '2021-11-21', 'realtime_end': '2021-11-21', 'date': '1991-01-01', 'value': '1038'}, {'realtime_start': '2021-11-21', 'realtime_end': '2021-11-21', 'date': '1992-01-01', 'value': '984'}, {'realtime_start': '2021-11-21', 'realtime_end': '2021-11-21', 'date': '1993-01-01', 'value': '1070'}, {'realtime_start': '2021-11-21', 'realtime_end': '2021-11-21', 'date': '1994-01-01', 'value': '1039'}, {'realtime_start': '2021-11-21', 'realtime_end': '2021-11-21', 'date': '1995-01-01', 'value': '1118'}, {'realtime_start': '2021-11-21', 'realtime_end': '2021-11-21', 'date': '1996-01-01', 'value': '1064'}, {'realtime_start': '2021-11-21', 'realtime_end': '2021-11-21', 'date': '1997-01-01', 'value': '1056'}, {'realtime_start': '2021-11-21', 'realtime_end': '2021-11-21', 'date': '1998-01-01', 'value': '979'}, {'realtime_start': '2021-11-21', 'realtime_end': '2021-11-21', 'date': '1999-01-01', 'value': '1020'}, {'realtime_start': '2021-11-21', 'realtime_end': '2021-11-21', 'date': '2000-01-01', 'value': '1109'}, {'realtime_start': '2021-11-21', 'realtime_end': '2021-11-21', 'date': '2001-01-01', 'value': '1142'}, {'realtime_start': '2021-11-21', 'realtime_end': '2021-11-21', 'date': '2002-01-01', 'value': '1148'}, {'realtime_start': '2021-11-21', 'realtime_end': '2021-11-21', 'date': '2003-01-01', 'value': '1213'}, {'realtime_start': '2021-11-21', 'realtime_end': '2021-11-21', 'date': '2004-01-01', 'value': '1252'}, {'realtime_start': '2021-11-21', 'realtime_end': '2021-11-21', 'date': '2005-01-01', 'value': '1140'}, {'realtime_start': '2021-11-21', 'realtime_end': '2021-11-21', 'date': '2006-01-01', 'value': '1120'}, {'realtime_start': '2021-11-21', 'realtime_end': '2021-11-21', 'date': '2007-01-01', 'value': '1146'}, {'realtime_start': '2021-11-21', 'realtime_end': '2021-11-21', 'date': '2008-01-01', 'value': '1153'}, {'realtime_start': '2021-11-21', 'realtime_end': '2021-11-21', 'date': '2009-01-01', 'value': '1170'}, {'realtime_start': '2021-11-21', 'realtime_end': '2021-11-21', 'date': '2010-01-01', 'value': '1105'}, {'realtime_start': '2021-11-21', 'realtime_end': '2021-11-21', 'date': '2011-01-01', 'value': '1224'}, {'realtime_start': '2021-11-21', 'realtime_end': '2021-11-21', 'date': '2012-01-01', 'value': '1189'}, {'realtime_start': '2021-11-21', 'realtime_end': '2021-11-21', 'date': '2013-01-01', 'value': '1237'}, {'realtime_start': '2021-11-21', 'realtime_end': '2021-11-21', 'date': '2014-01-01', 'value': '1320'}, {'realtime_start': '2021-11-21', 'realtime_end': '2021-11-21', 'date': '2015-01-01', 'value': '1274'}, {'realtime_start': '2021-11-21', 'realtime_end': '2021-11-21', 'date': '2016-01-01', 'value': '1229'}, {'realtime_start': '2021-11-21', 'realtime_end': '2021-11-21', 'date': '2017-01-01', 'value': '1343'}, {'realtime_start': '2021-11-21', 'realtime_end': '2021-11-21', 'date': '2018-01-01', 'value': '1363'}, {'realtime_start': '2021-11-21', 'realtime_end': '2021-11-21', 'date': '2019-01-01', 'value': '1356'}, {'realtime_start': '2021-11-21', 'realtime_end': '2021-11-21', 'date': '2020-01-01', 'value': '1599'}]}\n",
            "data_FRED-CXUANIMALLB0506M.json\n"
          ]
        },
        {
          "output_type": "display_data",
          "data": {
            "application/javascript": [
              "\n",
              "    async function download(id, filename, size) {\n",
              "      if (!google.colab.kernel.accessAllowed) {\n",
              "        return;\n",
              "      }\n",
              "      const div = document.createElement('div');\n",
              "      const label = document.createElement('label');\n",
              "      label.textContent = `Downloading \"${filename}\": `;\n",
              "      div.appendChild(label);\n",
              "      const progress = document.createElement('progress');\n",
              "      progress.max = size;\n",
              "      div.appendChild(progress);\n",
              "      document.body.appendChild(div);\n",
              "\n",
              "      const buffers = [];\n",
              "      let downloaded = 0;\n",
              "\n",
              "      const channel = await google.colab.kernel.comms.open(id);\n",
              "      // Send a message to notify the kernel that we're ready.\n",
              "      channel.send({})\n",
              "\n",
              "      for await (const message of channel.messages) {\n",
              "        // Send a message to notify the kernel that we're ready.\n",
              "        channel.send({})\n",
              "        if (message.buffers) {\n",
              "          for (const buffer of message.buffers) {\n",
              "            buffers.push(buffer);\n",
              "            downloaded += buffer.byteLength;\n",
              "            progress.value = downloaded;\n",
              "          }\n",
              "        }\n",
              "      }\n",
              "      const blob = new Blob(buffers, {type: 'application/binary'});\n",
              "      const a = document.createElement('a');\n",
              "      a.href = window.URL.createObjectURL(blob);\n",
              "      a.download = filename;\n",
              "      div.appendChild(a);\n",
              "      a.click();\n",
              "      div.remove();\n",
              "    }\n",
              "  "
            ],
            "text/plain": [
              "<IPython.core.display.Javascript object>"
            ]
          },
          "metadata": {}
        },
        {
          "output_type": "display_data",
          "data": {
            "application/javascript": [
              "download(\"download_9d67ea79-8336-4549-aa61-d4555f494729\", \"data_FRED-CXUANIMALLB0506M.json\", 6603)"
            ],
            "text/plain": [
              "<IPython.core.display.Javascript object>"
            ]
          },
          "metadata": {}
        },
        {
          "output_type": "stream",
          "name": "stdout",
          "text": [
            "CXUANIMALLB0507M\n",
            "https://api.stlouisfed.org/fred/series/observations?series_id=CXUANIMALLB0507M&api_key=22ee7a76e736e32f54f5df0a7171538d&file_type=json\n",
            "{'realtime_start': '2021-11-21', 'realtime_end': '2021-11-21', 'observation_start': '1600-01-01', 'observation_end': '9999-12-31', 'units': 'lin', 'output_type': 1, 'file_type': 'json', 'order_by': 'observation_date', 'sort_order': 'asc', 'count': 33, 'offset': 0, 'limit': 100000, 'observations': [{'realtime_start': '2021-11-21', 'realtime_end': '2021-11-21', 'date': '1988-01-01', 'value': '960'}, {'realtime_start': '2021-11-21', 'realtime_end': '2021-11-21', 'date': '1989-01-01', 'value': '1023'}, {'realtime_start': '2021-11-21', 'realtime_end': '2021-11-21', 'date': '1990-01-01', 'value': '1144'}, {'realtime_start': '2021-11-21', 'realtime_end': '2021-11-21', 'date': '1991-01-01', 'value': '1209'}, {'realtime_start': '2021-11-21', 'realtime_end': '2021-11-21', 'date': '1992-01-01', 'value': '1169'}, {'realtime_start': '2021-11-21', 'realtime_end': '2021-11-21', 'date': '1993-01-01', 'value': '1274'}, {'realtime_start': '2021-11-21', 'realtime_end': '2021-11-21', 'date': '1994-01-01', 'value': '1324'}, {'realtime_start': '2021-11-21', 'realtime_end': '2021-11-21', 'date': '1995-01-01', 'value': '1359'}, {'realtime_start': '2021-11-21', 'realtime_end': '2021-11-21', 'date': '1996-01-01', 'value': '1287'}, {'realtime_start': '2021-11-21', 'realtime_end': '2021-11-21', 'date': '1997-01-01', 'value': '1361'}, {'realtime_start': '2021-11-21', 'realtime_end': '2021-11-21', 'date': '1998-01-01', 'value': '1423'}, {'realtime_start': '2021-11-21', 'realtime_end': '2021-11-21', 'date': '1999-01-01', 'value': '1377'}, {'realtime_start': '2021-11-21', 'realtime_end': '2021-11-21', 'date': '2000-01-01', 'value': '1366'}, {'realtime_start': '2021-11-21', 'realtime_end': '2021-11-21', 'date': '2001-01-01', 'value': '1425'}, {'realtime_start': '2021-11-21', 'realtime_end': '2021-11-21', 'date': '2002-01-01', 'value': '1400'}, {'realtime_start': '2021-11-21', 'realtime_end': '2021-11-21', 'date': '2003-01-01', 'value': '1422'}, {'realtime_start': '2021-11-21', 'realtime_end': '2021-11-21', 'date': '2004-01-01', 'value': '1464'}, {'realtime_start': '2021-11-21', 'realtime_end': '2021-11-21', 'date': '2005-01-01', 'value': '1332'}, {'realtime_start': '2021-11-21', 'realtime_end': '2021-11-21', 'date': '2006-01-01', 'value': '1508'}, {'realtime_start': '2021-11-21', 'realtime_end': '2021-11-21', 'date': '2007-01-01', 'value': '1310'}, {'realtime_start': '2021-11-21', 'realtime_end': '2021-11-21', 'date': '2008-01-01', 'value': '1451'}, {'realtime_start': '2021-11-21', 'realtime_end': '2021-11-21', 'date': '2009-01-01', 'value': '1457'}, {'realtime_start': '2021-11-21', 'realtime_end': '2021-11-21', 'date': '2010-01-01', 'value': '1276'}, {'realtime_start': '2021-11-21', 'realtime_end': '2021-11-21', 'date': '2011-01-01', 'value': '1510'}, {'realtime_start': '2021-11-21', 'realtime_end': '2021-11-21', 'date': '2012-01-01', 'value': '1447'}, {'realtime_start': '2021-11-21', 'realtime_end': '2021-11-21', 'date': '2013-01-01', 'value': '1495'}, {'realtime_start': '2021-11-21', 'realtime_end': '2021-11-21', 'date': '2014-01-01', 'value': '1539'}, {'realtime_start': '2021-11-21', 'realtime_end': '2021-11-21', 'date': '2015-01-01', 'value': '1450'}, {'realtime_start': '2021-11-21', 'realtime_end': '2021-11-21', 'date': '2016-01-01', 'value': '1489'}, {'realtime_start': '2021-11-21', 'realtime_end': '2021-11-21', 'date': '2017-01-01', 'value': '1522'}, {'realtime_start': '2021-11-21', 'realtime_end': '2021-11-21', 'date': '2018-01-01', 'value': '1559'}, {'realtime_start': '2021-11-21', 'realtime_end': '2021-11-21', 'date': '2019-01-01', 'value': '1754'}, {'realtime_start': '2021-11-21', 'realtime_end': '2021-11-21', 'date': '2020-01-01', 'value': '1815'}]}\n",
            "data_FRED-CXUANIMALLB0507M.json\n"
          ]
        },
        {
          "output_type": "display_data",
          "data": {
            "application/javascript": [
              "\n",
              "    async function download(id, filename, size) {\n",
              "      if (!google.colab.kernel.accessAllowed) {\n",
              "        return;\n",
              "      }\n",
              "      const div = document.createElement('div');\n",
              "      const label = document.createElement('label');\n",
              "      label.textContent = `Downloading \"${filename}\": `;\n",
              "      div.appendChild(label);\n",
              "      const progress = document.createElement('progress');\n",
              "      progress.max = size;\n",
              "      div.appendChild(progress);\n",
              "      document.body.appendChild(div);\n",
              "\n",
              "      const buffers = [];\n",
              "      let downloaded = 0;\n",
              "\n",
              "      const channel = await google.colab.kernel.comms.open(id);\n",
              "      // Send a message to notify the kernel that we're ready.\n",
              "      channel.send({})\n",
              "\n",
              "      for await (const message of channel.messages) {\n",
              "        // Send a message to notify the kernel that we're ready.\n",
              "        channel.send({})\n",
              "        if (message.buffers) {\n",
              "          for (const buffer of message.buffers) {\n",
              "            buffers.push(buffer);\n",
              "            downloaded += buffer.byteLength;\n",
              "            progress.value = downloaded;\n",
              "          }\n",
              "        }\n",
              "      }\n",
              "      const blob = new Blob(buffers, {type: 'application/binary'});\n",
              "      const a = document.createElement('a');\n",
              "      a.href = window.URL.createObjectURL(blob);\n",
              "      a.download = filename;\n",
              "      div.appendChild(a);\n",
              "      a.click();\n",
              "      div.remove();\n",
              "    }\n",
              "  "
            ],
            "text/plain": [
              "<IPython.core.display.Javascript object>"
            ]
          },
          "metadata": {}
        },
        {
          "output_type": "display_data",
          "data": {
            "application/javascript": [
              "download(\"download_e6a1df77-0cff-49b5-bc62-d524104498c8\", \"data_FRED-CXUANIMALLB0507M.json\", 5935)"
            ],
            "text/plain": [
              "<IPython.core.display.Javascript object>"
            ]
          },
          "metadata": {}
        }
      ]
    },
    {
      "cell_type": "markdown",
      "metadata": {
        "id": "IJ6k4FDZsm8z"
      },
      "source": [
        "..."
      ]
    }
  ]
}
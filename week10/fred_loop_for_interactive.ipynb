{
  "nbformat": 4,
  "nbformat_minor": 0,
  "metadata": {
    "colab": {
      "name": "fred loop for interactive",
      "provenance": [],
      "collapsed_sections": [],
      "authorship_tag": "ABX9TyPlB33T5FNTZ4QdTzUxVAX0",
      "include_colab_link": true
    },
    "kernelspec": {
      "name": "python3",
      "display_name": "Python 3"
    },
    "language_info": {
      "name": "python"
    }
  },
  "cells": [
    {
      "cell_type": "markdown",
      "metadata": {
        "id": "view-in-github",
        "colab_type": "text"
      },
      "source": [
        "<a href=\"https://colab.research.google.com/github/qt19623/qt19623.github.io/blob/main/fred_loop_for_interactive.ipynb\" target=\"_parent\"><img src=\"https://colab.research.google.com/assets/colab-badge.svg\" alt=\"Open In Colab\"/></a>"
      ]
    },
    {
      "cell_type": "code",
      "metadata": {
        "id": "eX54_ELvotAh"
      },
      "source": [
        "import requests"
      ],
      "execution_count": 1,
      "outputs": []
    },
    {
      "cell_type": "code",
      "metadata": {
        "id": "Boj-MG2ko1ui"
      },
      "source": [
        "import json"
      ],
      "execution_count": 2,
      "outputs": []
    },
    {
      "cell_type": "code",
      "metadata": {
        "id": "fHXLbH6Do2ZT"
      },
      "source": [
        "from google.colab import files"
      ],
      "execution_count": 3,
      "outputs": []
    },
    {
      "cell_type": "code",
      "metadata": {
        "id": "doZsZydio9pL"
      },
      "source": [
        "url=\"https://api.stlouisfed.org/fred/series/observations?series_id=B230RC0A052NBEA&api_key=aace2d0e64131776dfba7046a45e526b&file_type=json\""
      ],
      "execution_count": 4,
      "outputs": []
    },
    {
      "cell_type": "code",
      "metadata": {
        "id": "nLlNmRbZpIVw"
      },
      "source": [
        "data=requests.get(url).json()"
      ],
      "execution_count": 5,
      "outputs": []
    },
    {
      "cell_type": "code",
      "metadata": {
        "colab": {
          "base_uri": "https://localhost:8080/"
        },
        "id": "wkcPlhFqpPgV",
        "outputId": "7e501615-6f7f-4b66-f341-c89cb4b82b03"
      },
      "source": [
        "print(data)"
      ],
      "execution_count": 6,
      "outputs": [
        {
          "output_type": "stream",
          "name": "stdout",
          "text": [
            "{'realtime_start': '2021-12-18', 'realtime_end': '2021-12-18', 'observation_start': '1600-01-01', 'observation_end': '9999-12-31', 'units': 'lin', 'output_type': 1, 'file_type': 'json', 'order_by': 'observation_date', 'sort_order': 'asc', 'count': 92, 'offset': 0, 'limit': 100000, 'observations': [{'realtime_start': '2021-12-18', 'realtime_end': '2021-12-18', 'date': '1929-01-01', 'value': '121878'}, {'realtime_start': '2021-12-18', 'realtime_end': '2021-12-18', 'date': '1930-01-01', 'value': '123188'}, {'realtime_start': '2021-12-18', 'realtime_end': '2021-12-18', 'date': '1931-01-01', 'value': '124149'}, {'realtime_start': '2021-12-18', 'realtime_end': '2021-12-18', 'date': '1932-01-01', 'value': '124949'}, {'realtime_start': '2021-12-18', 'realtime_end': '2021-12-18', 'date': '1933-01-01', 'value': '125690'}, {'realtime_start': '2021-12-18', 'realtime_end': '2021-12-18', 'date': '1934-01-01', 'value': '126485'}, {'realtime_start': '2021-12-18', 'realtime_end': '2021-12-18', 'date': '1935-01-01', 'value': '127362'}, {'realtime_start': '2021-12-18', 'realtime_end': '2021-12-18', 'date': '1936-01-01', 'value': '128181'}, {'realtime_start': '2021-12-18', 'realtime_end': '2021-12-18', 'date': '1937-01-01', 'value': '128961'}, {'realtime_start': '2021-12-18', 'realtime_end': '2021-12-18', 'date': '1938-01-01', 'value': '129969'}, {'realtime_start': '2021-12-18', 'realtime_end': '2021-12-18', 'date': '1939-01-01', 'value': '131028'}, {'realtime_start': '2021-12-18', 'realtime_end': '2021-12-18', 'date': '1940-01-01', 'value': '132122'}, {'realtime_start': '2021-12-18', 'realtime_end': '2021-12-18', 'date': '1941-01-01', 'value': '133402'}, {'realtime_start': '2021-12-18', 'realtime_end': '2021-12-18', 'date': '1942-01-01', 'value': '134860'}, {'realtime_start': '2021-12-18', 'realtime_end': '2021-12-18', 'date': '1943-01-01', 'value': '136739'}, {'realtime_start': '2021-12-18', 'realtime_end': '2021-12-18', 'date': '1944-01-01', 'value': '138397'}, {'realtime_start': '2021-12-18', 'realtime_end': '2021-12-18', 'date': '1945-01-01', 'value': '139928'}, {'realtime_start': '2021-12-18', 'realtime_end': '2021-12-18', 'date': '1946-01-01', 'value': '141389'}, {'realtime_start': '2021-12-18', 'realtime_end': '2021-12-18', 'date': '1947-01-01', 'value': '144126'}, {'realtime_start': '2021-12-18', 'realtime_end': '2021-12-18', 'date': '1948-01-01', 'value': '146631'}, {'realtime_start': '2021-12-18', 'realtime_end': '2021-12-18', 'date': '1949-01-01', 'value': '149188'}, {'realtime_start': '2021-12-18', 'realtime_end': '2021-12-18', 'date': '1950-01-01', 'value': '151684'}, {'realtime_start': '2021-12-18', 'realtime_end': '2021-12-18', 'date': '1951-01-01', 'value': '154287'}, {'realtime_start': '2021-12-18', 'realtime_end': '2021-12-18', 'date': '1952-01-01', 'value': '156954'}, {'realtime_start': '2021-12-18', 'realtime_end': '2021-12-18', 'date': '1953-01-01', 'value': '159565'}, {'realtime_start': '2021-12-18', 'realtime_end': '2021-12-18', 'date': '1954-01-01', 'value': '162391'}, {'realtime_start': '2021-12-18', 'realtime_end': '2021-12-18', 'date': '1955-01-01', 'value': '165275'}, {'realtime_start': '2021-12-18', 'realtime_end': '2021-12-18', 'date': '1956-01-01', 'value': '168221'}, {'realtime_start': '2021-12-18', 'realtime_end': '2021-12-18', 'date': '1957-01-01', 'value': '171274'}, {'realtime_start': '2021-12-18', 'realtime_end': '2021-12-18', 'date': '1958-01-01', 'value': '174141'}, {'realtime_start': '2021-12-18', 'realtime_end': '2021-12-18', 'date': '1959-01-01', 'value': '177130'}, {'realtime_start': '2021-12-18', 'realtime_end': '2021-12-18', 'date': '1960-01-01', 'value': '180760'}, {'realtime_start': '2021-12-18', 'realtime_end': '2021-12-18', 'date': '1961-01-01', 'value': '183742'}, {'realtime_start': '2021-12-18', 'realtime_end': '2021-12-18', 'date': '1962-01-01', 'value': '186590'}, {'realtime_start': '2021-12-18', 'realtime_end': '2021-12-18', 'date': '1963-01-01', 'value': '189300'}, {'realtime_start': '2021-12-18', 'realtime_end': '2021-12-18', 'date': '1964-01-01', 'value': '191927'}, {'realtime_start': '2021-12-18', 'realtime_end': '2021-12-18', 'date': '1965-01-01', 'value': '194347'}, {'realtime_start': '2021-12-18', 'realtime_end': '2021-12-18', 'date': '1966-01-01', 'value': '196599'}, {'realtime_start': '2021-12-18', 'realtime_end': '2021-12-18', 'date': '1967-01-01', 'value': '198752'}, {'realtime_start': '2021-12-18', 'realtime_end': '2021-12-18', 'date': '1968-01-01', 'value': '200745'}, {'realtime_start': '2021-12-18', 'realtime_end': '2021-12-18', 'date': '1969-01-01', 'value': '202736'}, {'realtime_start': '2021-12-18', 'realtime_end': '2021-12-18', 'date': '1970-01-01', 'value': '205089'}, {'realtime_start': '2021-12-18', 'realtime_end': '2021-12-18', 'date': '1971-01-01', 'value': '207692'}, {'realtime_start': '2021-12-18', 'realtime_end': '2021-12-18', 'date': '1972-01-01', 'value': '209924'}, {'realtime_start': '2021-12-18', 'realtime_end': '2021-12-18', 'date': '1973-01-01', 'value': '211939'}, {'realtime_start': '2021-12-18', 'realtime_end': '2021-12-18', 'date': '1974-01-01', 'value': '213898'}, {'realtime_start': '2021-12-18', 'realtime_end': '2021-12-18', 'date': '1975-01-01', 'value': '215981'}, {'realtime_start': '2021-12-18', 'realtime_end': '2021-12-18', 'date': '1976-01-01', 'value': '218086'}, {'realtime_start': '2021-12-18', 'realtime_end': '2021-12-18', 'date': '1977-01-01', 'value': '220289'}, {'realtime_start': '2021-12-18', 'realtime_end': '2021-12-18', 'date': '1978-01-01', 'value': '222629'}, {'realtime_start': '2021-12-18', 'realtime_end': '2021-12-18', 'date': '1979-01-01', 'value': '225106'}, {'realtime_start': '2021-12-18', 'realtime_end': '2021-12-18', 'date': '1980-01-01', 'value': '227726'}, {'realtime_start': '2021-12-18', 'realtime_end': '2021-12-18', 'date': '1981-01-01', 'value': '230008'}, {'realtime_start': '2021-12-18', 'realtime_end': '2021-12-18', 'date': '1982-01-01', 'value': '232218'}, {'realtime_start': '2021-12-18', 'realtime_end': '2021-12-18', 'date': '1983-01-01', 'value': '234333'}, {'realtime_start': '2021-12-18', 'realtime_end': '2021-12-18', 'date': '1984-01-01', 'value': '236394'}, {'realtime_start': '2021-12-18', 'realtime_end': '2021-12-18', 'date': '1985-01-01', 'value': '238506'}, {'realtime_start': '2021-12-18', 'realtime_end': '2021-12-18', 'date': '1986-01-01', 'value': '240683'}, {'realtime_start': '2021-12-18', 'realtime_end': '2021-12-18', 'date': '1987-01-01', 'value': '242843'}, {'realtime_start': '2021-12-18', 'realtime_end': '2021-12-18', 'date': '1988-01-01', 'value': '245061'}, {'realtime_start': '2021-12-18', 'realtime_end': '2021-12-18', 'date': '1989-01-01', 'value': '247387'}, {'realtime_start': '2021-12-18', 'realtime_end': '2021-12-18', 'date': '1990-01-01', 'value': '250181'}, {'realtime_start': '2021-12-18', 'realtime_end': '2021-12-18', 'date': '1991-01-01', 'value': '253530'}, {'realtime_start': '2021-12-18', 'realtime_end': '2021-12-18', 'date': '1992-01-01', 'value': '256922'}, {'realtime_start': '2021-12-18', 'realtime_end': '2021-12-18', 'date': '1993-01-01', 'value': '260282'}, {'realtime_start': '2021-12-18', 'realtime_end': '2021-12-18', 'date': '1994-01-01', 'value': '263455'}, {'realtime_start': '2021-12-18', 'realtime_end': '2021-12-18', 'date': '1995-01-01', 'value': '266588'}, {'realtime_start': '2021-12-18', 'realtime_end': '2021-12-18', 'date': '1996-01-01', 'value': '269714'}, {'realtime_start': '2021-12-18', 'realtime_end': '2021-12-18', 'date': '1997-01-01', 'value': '272958'}, {'realtime_start': '2021-12-18', 'realtime_end': '2021-12-18', 'date': '1998-01-01', 'value': '276154'}, {'realtime_start': '2021-12-18', 'realtime_end': '2021-12-18', 'date': '1999-01-01', 'value': '279328'}, {'realtime_start': '2021-12-18', 'realtime_end': '2021-12-18', 'date': '2000-01-01', 'value': '282398'}, {'realtime_start': '2021-12-18', 'realtime_end': '2021-12-18', 'date': '2001-01-01', 'value': '285225'}, {'realtime_start': '2021-12-18', 'realtime_end': '2021-12-18', 'date': '2002-01-01', 'value': '287955'}, {'realtime_start': '2021-12-18', 'realtime_end': '2021-12-18', 'date': '2003-01-01', 'value': '290626'}, {'realtime_start': '2021-12-18', 'realtime_end': '2021-12-18', 'date': '2004-01-01', 'value': '293262'}, {'realtime_start': '2021-12-18', 'realtime_end': '2021-12-18', 'date': '2005-01-01', 'value': '295993'}, {'realtime_start': '2021-12-18', 'realtime_end': '2021-12-18', 'date': '2006-01-01', 'value': '298818'}, {'realtime_start': '2021-12-18', 'realtime_end': '2021-12-18', 'date': '2007-01-01', 'value': '301696'}, {'realtime_start': '2021-12-18', 'realtime_end': '2021-12-18', 'date': '2008-01-01', 'value': '304543'}, {'realtime_start': '2021-12-18', 'realtime_end': '2021-12-18', 'date': '2009-01-01', 'value': '307240'}, {'realtime_start': '2021-12-18', 'realtime_end': '2021-12-18', 'date': '2010-01-01', 'value': '309774.0'}, {'realtime_start': '2021-12-18', 'realtime_end': '2021-12-18', 'date': '2011-01-01', 'value': '312010.0'}, {'realtime_start': '2021-12-18', 'realtime_end': '2021-12-18', 'date': '2012-01-01', 'value': '314212.0'}, {'realtime_start': '2021-12-18', 'realtime_end': '2021-12-18', 'date': '2013-01-01', 'value': '316357.0'}, {'realtime_start': '2021-12-18', 'realtime_end': '2021-12-18', 'date': '2014-01-01', 'value': '318631.0'}, {'realtime_start': '2021-12-18', 'realtime_end': '2021-12-18', 'date': '2015-01-01', 'value': '320918.0'}, {'realtime_start': '2021-12-18', 'realtime_end': '2021-12-18', 'date': '2016-01-01', 'value': '323186.0'}, {'realtime_start': '2021-12-18', 'realtime_end': '2021-12-18', 'date': '2017-01-01', 'value': '325220.0'}, {'realtime_start': '2021-12-18', 'realtime_end': '2021-12-18', 'date': '2018-01-01', 'value': '326949.0'}, {'realtime_start': '2021-12-18', 'realtime_end': '2021-12-18', 'date': '2019-01-01', 'value': '328527.0'}, {'realtime_start': '2021-12-18', 'realtime_end': '2021-12-18', 'date': '2020-01-01', 'value': '330152.0'}]}\n"
          ]
        }
      ]
    },
    {
      "cell_type": "code",
      "metadata": {
        "id": "jQT0I9iWpRGS"
      },
      "source": [
        "filename=\"data_USpop.json\""
      ],
      "execution_count": 7,
      "outputs": []
    },
    {
      "cell_type": "code",
      "metadata": {
        "id": "fySqxJv-pf3N"
      },
      "source": [
        "with open(filename, 'w', encoding= 'utf-8') as f:\n",
        "  json.dump (data, f, ensure_ascii=False, indent=4)"
      ],
      "execution_count": 9,
      "outputs": []
    },
    {
      "cell_type": "code",
      "metadata": {
        "colab": {
          "base_uri": "https://localhost:8080/",
          "height": 17
        },
        "id": "C9T9jpRcpqh1",
        "outputId": "245481d8-dcd1-46ab-d24e-4c0a6b4c31b4"
      },
      "source": [
        "files.download('{}'.format(filename))"
      ],
      "execution_count": 10,
      "outputs": [
        {
          "output_type": "display_data",
          "data": {
            "application/javascript": [
              "\n",
              "    async function download(id, filename, size) {\n",
              "      if (!google.colab.kernel.accessAllowed) {\n",
              "        return;\n",
              "      }\n",
              "      const div = document.createElement('div');\n",
              "      const label = document.createElement('label');\n",
              "      label.textContent = `Downloading \"${filename}\": `;\n",
              "      div.appendChild(label);\n",
              "      const progress = document.createElement('progress');\n",
              "      progress.max = size;\n",
              "      div.appendChild(progress);\n",
              "      document.body.appendChild(div);\n",
              "\n",
              "      const buffers = [];\n",
              "      let downloaded = 0;\n",
              "\n",
              "      const channel = await google.colab.kernel.comms.open(id);\n",
              "      // Send a message to notify the kernel that we're ready.\n",
              "      channel.send({})\n",
              "\n",
              "      for await (const message of channel.messages) {\n",
              "        // Send a message to notify the kernel that we're ready.\n",
              "        channel.send({})\n",
              "        if (message.buffers) {\n",
              "          for (const buffer of message.buffers) {\n",
              "            buffers.push(buffer);\n",
              "            downloaded += buffer.byteLength;\n",
              "            progress.value = downloaded;\n",
              "          }\n",
              "        }\n",
              "      }\n",
              "      const blob = new Blob(buffers, {type: 'application/binary'});\n",
              "      const a = document.createElement('a');\n",
              "      a.href = window.URL.createObjectURL(blob);\n",
              "      a.download = filename;\n",
              "      div.appendChild(a);\n",
              "      a.click();\n",
              "      div.remove();\n",
              "    }\n",
              "  "
            ],
            "text/plain": [
              "<IPython.core.display.Javascript object>"
            ]
          },
          "metadata": {}
        },
        {
          "output_type": "display_data",
          "data": {
            "application/javascript": [
              "download(\"download_47ad35ad-098e-498c-a766-933c7ab84334\", \"data_USpop.json\", 16113)"
            ],
            "text/plain": [
              "<IPython.core.display.Javascript object>"
            ]
          },
          "metadata": {}
        }
      ]
    },
    {
      "cell_type": "markdown",
      "metadata": {
        "id": "M4Lkd-hSGvEk"
      },
      "source": [
        ""
      ]
    },
    {
      "cell_type": "code",
      "metadata": {
        "colab": {
          "base_uri": "https://localhost:8080/",
          "height": 17
        },
        "id": "TGAInwM3O40D",
        "outputId": "44f2b2a2-b144-47a0-d8af-21924db25ec0"
      },
      "source": [
        ""
      ],
      "execution_count": null,
      "outputs": [
        {
          "output_type": "display_data",
          "data": {
            "application/javascript": [
              "\n",
              "    async function download(id, filename, size) {\n",
              "      if (!google.colab.kernel.accessAllowed) {\n",
              "        return;\n",
              "      }\n",
              "      const div = document.createElement('div');\n",
              "      const label = document.createElement('label');\n",
              "      label.textContent = `Downloading \"${filename}\": `;\n",
              "      div.appendChild(label);\n",
              "      const progress = document.createElement('progress');\n",
              "      progress.max = size;\n",
              "      div.appendChild(progress);\n",
              "      document.body.appendChild(div);\n",
              "\n",
              "      const buffers = [];\n",
              "      let downloaded = 0;\n",
              "\n",
              "      const channel = await google.colab.kernel.comms.open(id);\n",
              "      // Send a message to notify the kernel that we're ready.\n",
              "      channel.send({})\n",
              "\n",
              "      for await (const message of channel.messages) {\n",
              "        // Send a message to notify the kernel that we're ready.\n",
              "        channel.send({})\n",
              "        if (message.buffers) {\n",
              "          for (const buffer of message.buffers) {\n",
              "            buffers.push(buffer);\n",
              "            downloaded += buffer.byteLength;\n",
              "            progress.value = downloaded;\n",
              "          }\n",
              "        }\n",
              "      }\n",
              "      const blob = new Blob(buffers, {type: 'application/binary'});\n",
              "      const a = document.createElement('a');\n",
              "      a.href = window.URL.createObjectURL(blob);\n",
              "      a.download = filename;\n",
              "      div.appendChild(a);\n",
              "      a.click();\n",
              "      div.remove();\n",
              "    }\n",
              "  "
            ],
            "text/plain": [
              "<IPython.core.display.Javascript object>"
            ]
          },
          "metadata": {}
        },
        {
          "output_type": "display_data",
          "data": {
            "application/javascript": [
              "download(\"download_d3f94242-d6c1-4826-8b82-1371c9d2d810\", \"data_KOR_GHG.json\", 255729)"
            ],
            "text/plain": [
              "<IPython.core.display.Javascript object>"
            ]
          },
          "metadata": {}
        },
        {
          "output_type": "display_data",
          "data": {
            "application/javascript": [
              "\n",
              "    async function download(id, filename, size) {\n",
              "      if (!google.colab.kernel.accessAllowed) {\n",
              "        return;\n",
              "      }\n",
              "      const div = document.createElement('div');\n",
              "      const label = document.createElement('label');\n",
              "      label.textContent = `Downloading \"${filename}\": `;\n",
              "      div.appendChild(label);\n",
              "      const progress = document.createElement('progress');\n",
              "      progress.max = size;\n",
              "      div.appendChild(progress);\n",
              "      document.body.appendChild(div);\n",
              "\n",
              "      const buffers = [];\n",
              "      let downloaded = 0;\n",
              "\n",
              "      const channel = await google.colab.kernel.comms.open(id);\n",
              "      // Send a message to notify the kernel that we're ready.\n",
              "      channel.send({})\n",
              "\n",
              "      for await (const message of channel.messages) {\n",
              "        // Send a message to notify the kernel that we're ready.\n",
              "        channel.send({})\n",
              "        if (message.buffers) {\n",
              "          for (const buffer of message.buffers) {\n",
              "            buffers.push(buffer);\n",
              "            downloaded += buffer.byteLength;\n",
              "            progress.value = downloaded;\n",
              "          }\n",
              "        }\n",
              "      }\n",
              "      const blob = new Blob(buffers, {type: 'application/binary'});\n",
              "      const a = document.createElement('a');\n",
              "      a.href = window.URL.createObjectURL(blob);\n",
              "      a.download = filename;\n",
              "      div.appendChild(a);\n",
              "      a.click();\n",
              "      div.remove();\n",
              "    }\n",
              "  "
            ],
            "text/plain": [
              "<IPython.core.display.Javascript object>"
            ]
          },
          "metadata": {}
        },
        {
          "output_type": "display_data",
          "data": {
            "application/javascript": [
              "download(\"download_4b2501a9-5972-45d4-8c8a-a7677fab44dd\", \"data_KOR_GHG.json\", 255729)"
            ],
            "text/plain": [
              "<IPython.core.display.Javascript object>"
            ]
          },
          "metadata": {}
        },
        {
          "output_type": "display_data",
          "data": {
            "application/javascript": [
              "\n",
              "    async function download(id, filename, size) {\n",
              "      if (!google.colab.kernel.accessAllowed) {\n",
              "        return;\n",
              "      }\n",
              "      const div = document.createElement('div');\n",
              "      const label = document.createElement('label');\n",
              "      label.textContent = `Downloading \"${filename}\": `;\n",
              "      div.appendChild(label);\n",
              "      const progress = document.createElement('progress');\n",
              "      progress.max = size;\n",
              "      div.appendChild(progress);\n",
              "      document.body.appendChild(div);\n",
              "\n",
              "      const buffers = [];\n",
              "      let downloaded = 0;\n",
              "\n",
              "      const channel = await google.colab.kernel.comms.open(id);\n",
              "      // Send a message to notify the kernel that we're ready.\n",
              "      channel.send({})\n",
              "\n",
              "      for await (const message of channel.messages) {\n",
              "        // Send a message to notify the kernel that we're ready.\n",
              "        channel.send({})\n",
              "        if (message.buffers) {\n",
              "          for (const buffer of message.buffers) {\n",
              "            buffers.push(buffer);\n",
              "            downloaded += buffer.byteLength;\n",
              "            progress.value = downloaded;\n",
              "          }\n",
              "        }\n",
              "      }\n",
              "      const blob = new Blob(buffers, {type: 'application/binary'});\n",
              "      const a = document.createElement('a');\n",
              "      a.href = window.URL.createObjectURL(blob);\n",
              "      a.download = filename;\n",
              "      div.appendChild(a);\n",
              "      a.click();\n",
              "      div.remove();\n",
              "    }\n",
              "  "
            ],
            "text/plain": [
              "<IPython.core.display.Javascript object>"
            ]
          },
          "metadata": {}
        },
        {
          "output_type": "display_data",
          "data": {
            "application/javascript": [
              "download(\"download_f9a785c3-b6ce-464b-a9d2-5b8ddeb3bb72\", \"data_KOR_GHG.json\", 255729)"
            ],
            "text/plain": [
              "<IPython.core.display.Javascript object>"
            ]
          },
          "metadata": {}
        },
        {
          "output_type": "display_data",
          "data": {
            "application/javascript": [
              "\n",
              "    async function download(id, filename, size) {\n",
              "      if (!google.colab.kernel.accessAllowed) {\n",
              "        return;\n",
              "      }\n",
              "      const div = document.createElement('div');\n",
              "      const label = document.createElement('label');\n",
              "      label.textContent = `Downloading \"${filename}\": `;\n",
              "      div.appendChild(label);\n",
              "      const progress = document.createElement('progress');\n",
              "      progress.max = size;\n",
              "      div.appendChild(progress);\n",
              "      document.body.appendChild(div);\n",
              "\n",
              "      const buffers = [];\n",
              "      let downloaded = 0;\n",
              "\n",
              "      const channel = await google.colab.kernel.comms.open(id);\n",
              "      // Send a message to notify the kernel that we're ready.\n",
              "      channel.send({})\n",
              "\n",
              "      for await (const message of channel.messages) {\n",
              "        // Send a message to notify the kernel that we're ready.\n",
              "        channel.send({})\n",
              "        if (message.buffers) {\n",
              "          for (const buffer of message.buffers) {\n",
              "            buffers.push(buffer);\n",
              "            downloaded += buffer.byteLength;\n",
              "            progress.value = downloaded;\n",
              "          }\n",
              "        }\n",
              "      }\n",
              "      const blob = new Blob(buffers, {type: 'application/binary'});\n",
              "      const a = document.createElement('a');\n",
              "      a.href = window.URL.createObjectURL(blob);\n",
              "      a.download = filename;\n",
              "      div.appendChild(a);\n",
              "      a.click();\n",
              "      div.remove();\n",
              "    }\n",
              "  "
            ],
            "text/plain": [
              "<IPython.core.display.Javascript object>"
            ]
          },
          "metadata": {}
        },
        {
          "output_type": "display_data",
          "data": {
            "application/javascript": [
              "download(\"download_adc72b5d-06e2-4462-84d5-8779743209c5\", \"data_KOR_GHG.json\", 255729)"
            ],
            "text/plain": [
              "<IPython.core.display.Javascript object>"
            ]
          },
          "metadata": {}
        }
      ]
    }
  ]
}
